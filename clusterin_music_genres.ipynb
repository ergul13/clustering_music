{
  "cells": [
    {
      "cell_type": "markdown",
      "metadata": {
        "id": "view-in-github",
        "colab_type": "text"
      },
      "source": [
        "<a href=\"https://colab.research.google.com/github/ergul13/clustering_music/blob/main/clusterin_music_genres.ipynb\" target=\"_parent\"><img src=\"https://colab.research.google.com/assets/colab-badge.svg\" alt=\"Open In Colab\"/></a>"
      ]
    },
    {
      "cell_type": "code",
      "source": [
        "from google.colab import drive\n",
        "drive.mount('/content/drive')"
      ],
      "metadata": {
        "colab": {
          "base_uri": "https://localhost:8080/"
        },
        "id": "9khpv4lr0YIi",
        "outputId": "c53b28a1-5533-4b95-ab1a-44b3421c4df3"
      },
      "execution_count": 18,
      "outputs": [
        {
          "output_type": "stream",
          "name": "stdout",
          "text": [
            "Drive already mounted at /content/drive; to attempt to forcibly remount, call drive.mount(\"/content/drive\", force_remount=True).\n"
          ]
        }
      ]
    },
    {
      "cell_type": "code",
      "source": [
        "pip install catboost"
      ],
      "metadata": {
        "colab": {
          "base_uri": "https://localhost:8080/"
        },
        "id": "RZUtu5FtxVU7",
        "outputId": "8fa242ca-d9d5-45c3-e593-d8ee1f92d180"
      },
      "execution_count": 19,
      "outputs": [
        {
          "output_type": "stream",
          "name": "stdout",
          "text": [
            "Requirement already satisfied: catboost in /usr/local/lib/python3.11/dist-packages (1.2.8)\n",
            "Requirement already satisfied: graphviz in /usr/local/lib/python3.11/dist-packages (from catboost) (0.21)\n",
            "Requirement already satisfied: matplotlib in /usr/local/lib/python3.11/dist-packages (from catboost) (3.10.0)\n",
            "Requirement already satisfied: numpy<3.0,>=1.16.0 in /usr/local/lib/python3.11/dist-packages (from catboost) (2.0.2)\n",
            "Requirement already satisfied: pandas>=0.24 in /usr/local/lib/python3.11/dist-packages (from catboost) (2.2.2)\n",
            "Requirement already satisfied: scipy in /usr/local/lib/python3.11/dist-packages (from catboost) (1.16.0)\n",
            "Requirement already satisfied: plotly in /usr/local/lib/python3.11/dist-packages (from catboost) (5.24.1)\n",
            "Requirement already satisfied: six in /usr/local/lib/python3.11/dist-packages (from catboost) (1.17.0)\n",
            "Requirement already satisfied: python-dateutil>=2.8.2 in /usr/local/lib/python3.11/dist-packages (from pandas>=0.24->catboost) (2.9.0.post0)\n",
            "Requirement already satisfied: pytz>=2020.1 in /usr/local/lib/python3.11/dist-packages (from pandas>=0.24->catboost) (2025.2)\n",
            "Requirement already satisfied: tzdata>=2022.7 in /usr/local/lib/python3.11/dist-packages (from pandas>=0.24->catboost) (2025.2)\n",
            "Requirement already satisfied: contourpy>=1.0.1 in /usr/local/lib/python3.11/dist-packages (from matplotlib->catboost) (1.3.2)\n",
            "Requirement already satisfied: cycler>=0.10 in /usr/local/lib/python3.11/dist-packages (from matplotlib->catboost) (0.12.1)\n",
            "Requirement already satisfied: fonttools>=4.22.0 in /usr/local/lib/python3.11/dist-packages (from matplotlib->catboost) (4.59.0)\n",
            "Requirement already satisfied: kiwisolver>=1.3.1 in /usr/local/lib/python3.11/dist-packages (from matplotlib->catboost) (1.4.8)\n",
            "Requirement already satisfied: packaging>=20.0 in /usr/local/lib/python3.11/dist-packages (from matplotlib->catboost) (25.0)\n",
            "Requirement already satisfied: pillow>=8 in /usr/local/lib/python3.11/dist-packages (from matplotlib->catboost) (11.3.0)\n",
            "Requirement already satisfied: pyparsing>=2.3.1 in /usr/local/lib/python3.11/dist-packages (from matplotlib->catboost) (3.2.3)\n",
            "Requirement already satisfied: tenacity>=6.2.0 in /usr/local/lib/python3.11/dist-packages (from plotly->catboost) (8.5.0)\n"
          ]
        }
      ]
    },
    {
      "cell_type": "code",
      "source": [
        "import pandas as pd\n",
        "import numpy as np\n",
        "from sklearn.model_selection import train_test_split, GridSearchCV, StratifiedKFold\n",
        "from sklearn.preprocessing import StandardScaler\n",
        "from sklearn.utils.class_weight import compute_class_weight\n",
        "from sklearn.metrics import classification_report, confusion_matrix\n",
        "from catboost import CatBoostClassifier\n",
        "import seaborn as sns\n",
        "import matplotlib.pyplot as plt"
      ],
      "metadata": {
        "id": "muUsti0OgcEU"
      },
      "execution_count": 35,
      "outputs": []
    },
    {
      "cell_type": "code",
      "source": [
        "df = pd.read_csv('/content/drive/MyDrive/Colab Notebooks/clustering_music_genres/Spotify-2000.csv')"
      ],
      "metadata": {
        "id": "6J1k4KEHhy7b"
      },
      "execution_count": 36,
      "outputs": []
    },
    {
      "cell_type": "code",
      "source": [
        "print(df.head())\n",
        "print(\"-\" * 30)\n",
        "print(\"Veri setindeki sütunlar:\")\n",
        "print(df.columns)\n",
        "print(\"-\" * 30)"
      ],
      "metadata": {
        "colab": {
          "base_uri": "https://localhost:8080/"
        },
        "id": "4dl3cQhFzzRp",
        "outputId": "5636ff42-bdce-4d05-b853-bf36cf85899d"
      },
      "execution_count": 44,
      "outputs": [
        {
          "output_type": "stream",
          "name": "stdout",
          "text": [
            "   Index                   Title             Artist            Top Genre  \\\n",
            "0      1                 Sunrise        Norah Jones      adult standards   \n",
            "1      2             Black Night        Deep Purple           album rock   \n",
            "2      3          Clint Eastwood           Gorillaz  alternative hip hop   \n",
            "3      4           The Pretender       Foo Fighters    alternative metal   \n",
            "4      5  Waitin' On A Sunny Day  Bruce Springsteen         classic rock   \n",
            "\n",
            "   Year  Beats Per Minute (BPM)  Energy  Danceability  Loudness (dB)  \\\n",
            "0  2004                     157      30            53            -14   \n",
            "1  2000                     135      79            50            -11   \n",
            "2  2001                     168      69            66             -9   \n",
            "3  2007                     173      96            43             -4   \n",
            "4  2002                     106      82            58             -5   \n",
            "\n",
            "   Liveness  Valence Length (Duration)  Acousticness  Speechiness  Popularity  \\\n",
            "0        11       68               201            94            3          71   \n",
            "1        17       81               207            17            7          39   \n",
            "2         7       52               341             2           17          69   \n",
            "3         3       37               269             0            4          76   \n",
            "4        10       87               256             1            3          59   \n",
            "\n",
            "  Top Genre Grouped  \n",
            "0             other  \n",
            "1              rock  \n",
            "2             other  \n",
            "3             other  \n",
            "4              rock  \n",
            "------------------------------\n",
            "Veri setindeki sütunlar:\n",
            "Index(['Index', 'Title', 'Artist', 'Top Genre', 'Year',\n",
            "       'Beats Per Minute (BPM)', 'Energy', 'Danceability', 'Loudness (dB)',\n",
            "       'Liveness', 'Valence', 'Length (Duration)', 'Acousticness',\n",
            "       'Speechiness', 'Popularity', 'Top Genre Grouped'],\n",
            "      dtype='object')\n",
            "------------------------------\n"
          ]
        }
      ]
    },
    {
      "cell_type": "code",
      "source": [
        "def genre_grouping(genre):\n",
        "    # 'Top Genre' sütunundaki değerlerin string olduğundan emin olalım\n",
        "    if not isinstance(genre, str):\n",
        "        return 'other'\n",
        "\n",
        "    genre = genre.lower() # Büyük/küçük harf duyarlılığını kaldırmak için\n",
        "    if any(g in genre for g in ['album rock', 'alternative rock', 'hard rock', 'classic rock', 'modern rock', 'rock']):\n",
        "        return 'rock'\n",
        "    elif any(g in genre for g in ['pop', 'dance pop', 'dutch pop']):\n",
        "        return 'pop'\n",
        "    elif any(g in genre for g in ['indie', 'dutch indie']):\n",
        "        return 'indie'\n",
        "    else:\n",
        "        return 'other'\n",
        "\n",
        "# Gruplama fonksiyonunu uygula ve yeni bir sütun oluştur\n",
        "df['Top Genre Grouped'] = df['Top Genre'].apply(genre_grouping)\n",
        "\n",
        "# Çok az sayıda örneği olan grupları (30'dan az) veri setinden çıkar\n",
        "counts = df['Top Genre Grouped'].value_counts()\n",
        "df = df[df['Top Genre Grouped'].isin(counts[counts > 30].index)]\n",
        "\n",
        "print(\"Veri setindeki türlerin dağılımı:\")\n",
        "print(df['Top Genre Grouped'].value_counts())\n",
        "print(\"-\" * 30)"
      ],
      "metadata": {
        "colab": {
          "base_uri": "https://localhost:8080/"
        },
        "id": "vdl1i4ZTnVv5",
        "outputId": "44933ec0-4d9c-4f23-bf9e-e5b0be9444f9"
      },
      "execution_count": 38,
      "outputs": [
        {
          "output_type": "stream",
          "name": "stdout",
          "text": [
            "Veri setindeki türlerin dağılımı:\n",
            "Top Genre Grouped\n",
            "rock     857\n",
            "other    670\n",
            "pop      388\n",
            "indie     79\n",
            "Name: count, dtype: int64\n",
            "------------------------------\n"
          ]
        }
      ]
    },
    {
      "cell_type": "code",
      "source": [
        "feature_cols = ['Danceability', 'Energy', 'Valence', 'Loudness (dB)', 'Liveness', 'Speechiness', 'Acousticness', 'Beats Per Minute (BPM)']\n",
        "\n",
        "# Virgülle yazılmış ondalık sayıları noktaya çevirip sayısal tipe dönüştür\n",
        "# Bazen bu sütunlar zaten doğru formatta olabilir, bu yüzden hata kontrolü ekleyelim\n",
        "for col in feature_cols:\n",
        "    if df[col].dtype == 'object': # Sadece metin tipindeyse bu işlemi yap\n",
        "        df[col] = df[col].str.replace(',', '.').astype(float)\n"
      ],
      "metadata": {
        "id": "DCND8zDxlbiY"
      },
      "execution_count": 39,
      "outputs": []
    },
    {
      "cell_type": "code",
      "source": [
        "X = df[feature_cols]\n",
        "y = df['Top Genre Grouped']\n",
        "\n",
        "# Sayısal verileri standartlaştır (ölçeklendir)\n",
        "scaler = StandardScaler()\n",
        "X_scaled = scaler.fit_transform(X)\n",
        "\n",
        "# Veriyi eğitim ve test setlerine ayır (%80 eğitim, %20 test)\n",
        "# stratify=y -> Sınıf dağılımını korur\n",
        "X_train, X_test, y_train, y_test = train_test_split(X_scaled, y, stratify=y, test_size=0.2, random_state=42)\n",
        "\n",
        "# Sınıf dengesizliği için ağırlıkları hesapla\n",
        "classes = np.unique(y_train)\n",
        "class_weights = compute_class_weight(class_weight='balanced', classes=classes, y=y_train)\n",
        "class_weights_dict = dict(zip(classes, class_weights))"
      ],
      "metadata": {
        "id": "JEC43VF4xrzk"
      },
      "execution_count": 40,
      "outputs": []
    },
    {
      "cell_type": "code",
      "source": [
        "param_grid = {\n",
        "    'depth': [4, 6, 8],\n",
        "    'learning_rate': [0.05, 0.1],\n",
        "    'iterations': [500, 1000]\n",
        "}\n",
        "\n",
        "# GridSearchCV için temel CatBoost modelini oluştur\n",
        "# verbose=0 -> Arama sırasında her adımı yazdırmaz, ekranı temiz tutar\n",
        "model_for_grid = CatBoostClassifier(random_seed=42, verbose=0, class_weights=class_weights_dict)\n",
        "\n",
        "# GridSearchCV'ü ayarla\n",
        "# cv=StratifiedKFold(n_splits=3) -> Sınıf dağılımını koruyan 3 katlı çapraz doğrulama\n",
        "# scoring='f1_weighted' -> F1 skoruna göre en iyi modeli seç (dengesiz sınıflar için iyi bir metrik)\n",
        "# n_jobs=-1 -> Bilgisayarındaki tüm işlemci çekirdeklerini kullanarak aramayı hızlandırır\n",
        "grid_search = GridSearchCV(\n",
        "    estimator=model_for_grid,\n",
        "    param_grid=param_grid,\n",
        "    cv=StratifiedKFold(n_splits=3, shuffle=True, random_state=42),\n",
        "    n_jobs=-1,\n",
        "    scoring='f1_weighted'\n",
        ")\n",
        "\n",
        "print(\"Hiperparametre optimizasyonu başlıyor... (Bu işlem biraz zaman alabilir)\")\n",
        "# GridSearchCV'ü eğitim verisiyle çalıştır\n",
        "grid_search.fit(X_train, y_train)\n",
        "\n",
        "# En iyi sonuçları ve parametreleri al\n",
        "print(\"Optimizasyon tamamlandı!\")\n",
        "print(\"-\" * 30)\n",
        "print(\"Bulunan en iyi parametreler:\", grid_search.best_params_)\n",
        "print(\"En iyi F1 skoru (Çapraz Doğrulama ile):\", f\"{grid_search.best_score_:.4f}\")\n",
        "print(\"-\" * 30)\n"
      ],
      "metadata": {
        "colab": {
          "base_uri": "https://localhost:8080/"
        },
        "id": "XhnD9C8vy6Cf",
        "outputId": "fa8caf7a-8b2f-4ab9-fd98-6d9f4ffbf6a5"
      },
      "execution_count": 41,
      "outputs": [
        {
          "output_type": "stream",
          "name": "stdout",
          "text": [
            "Hiperparametre optimizasyonu başlıyor... (Bu işlem biraz zaman alabilir)\n",
            "Optimizasyon tamamlandı!\n",
            "------------------------------\n",
            "Bulunan en iyi parametreler: {'depth': 8, 'iterations': 500, 'learning_rate': 0.05}\n",
            "En iyi F1 skoru (Çapraz Doğrulama ile): 0.4378\n",
            "------------------------------\n"
          ]
        }
      ]
    },
    {
      "cell_type": "code",
      "source": [
        "best_model = grid_search.best_estimator_\n",
        "\n",
        "# En iyi model ile test seti üzerinde tahmin yap\n",
        "y_pred_best = best_model.predict(X_test)\n",
        "\n",
        "# Sonuçları Classification Report ile detaylı olarak yazdır\n",
        "print(\"\\nOPTİMİZE EDİLMİŞ MODELİN PERFORMANS RAPORU:\")\n",
        "print(classification_report(y_test, y_pred_best))\n",
        "\n",
        "# Karmaşıklık Matrisi (Confusion Matrix) ile hata analizi yap\n",
        "print(\"Karmaşıklık Matrisi oluşturuluyor...\")\n",
        "cm = confusion_matrix(y_test, y_pred_best, labels=best_model.classes_)\n",
        "\n",
        "# Matrisi görselleştir\n",
        "plt.figure(figsize=(10, 8))\n",
        "sns.heatmap(cm, annot=True, fmt='d', cmap='Blues',\n",
        "            xticklabels=best_model.classes_,\n",
        "            yticklabels=best_model.classes_)\n",
        "plt.title('Karmaşıklık Matrisi (Confusion Matrix)')\n",
        "plt.xlabel('Tahmin Edilen Sınıf')\n",
        "plt.ylabel('Gerçek Sınıf')\n",
        "plt.show()"
      ],
      "metadata": {
        "colab": {
          "base_uri": "https://localhost:8080/",
          "height": 961
        },
        "id": "ze1kS3A30-6N",
        "outputId": "2c59f2ac-24e8-4eca-cf75-cf0310a210b9"
      },
      "execution_count": 42,
      "outputs": [
        {
          "output_type": "stream",
          "name": "stdout",
          "text": [
            "\n",
            "OPTİMİZE EDİLMİŞ MODELİN PERFORMANS RAPORU:\n",
            "              precision    recall  f1-score   support\n",
            "\n",
            "       indie       0.00      0.00      0.00        16\n",
            "       other       0.47      0.45      0.46       134\n",
            "         pop       0.32      0.32      0.32        78\n",
            "        rock       0.54      0.58      0.56       171\n",
            "\n",
            "    accuracy                           0.46       399\n",
            "   macro avg       0.33      0.34      0.33       399\n",
            "weighted avg       0.45      0.46      0.46       399\n",
            "\n",
            "Karmaşıklık Matrisi oluşturuluyor...\n"
          ]
        },
        {
          "output_type": "display_data",
          "data": {
            "text/plain": [
              "<Figure size 1000x800 with 2 Axes>"
            ],
            "image/png": "[encoded data removed]"
          },
          "metadata": {}
        }
      ]
    }
  ],
  "metadata": {
    "accelerator": "GPU",
    "colab": {
      "gpuType": "T4",
      "provenance": [],
      "authorship_tag": "ABX9TyN7fa6HdAynpRNdXgjobVz6",
      "include_colab_link": true
    },
    "kernelspec": {
      "display_name": "Python 3",
      "name": "python3"
    },
    "language_info": {
      "name": "python"
    }
  },
  "nbformat": 4,
  "nbformat_minor": 0
}