{
  "cells": [
    {
      "cell_type": "markdown",
      "metadata": {
        "id": "view-in-github",
        "colab_type": "text"
      },
      "source": [
        "<a href=\"https://colab.research.google.com/github/ergul13/clustering_music/blob/main/clusterin_music_genres.ipynb\" target=\"_parent\"><img src=\"https://colab.research.google.com/assets/colab-badge.svg\" alt=\"Open In Colab\"/></a>"
      ]
    },
    {
      "cell_type": "code",
      "source": [
        "from google.colab import drive\n",
        "drive.mount('/content/drive')"
      ],
      "metadata": {
        "colab": {
          "base_uri": "https://localhost:8080/"
        },
        "id": "9khpv4lr0YIi",
        "outputId": "a62e2c9b-c590-4297-93d4-aedae562b264"
      },
      "execution_count": 16,
      "outputs": [
        {
          "output_type": "stream",
          "name": "stdout",
          "text": [
            "Drive already mounted at /content/drive; to attempt to forcibly remount, call drive.mount(\"/content/drive\", force_remount=True).\n"
          ]
        }
      ]
    },
    {
      "cell_type": "code",
      "source": [
        "import pandas as pd\n",
        "from sklearn.preprocessing import LabelEncoder, StandardScaler\n",
        "from sklearn.model_selection import train_test_split\n",
        "from sklearn.ensemble import RandomForestClassifier\n",
        "from sklearn.metrics import classification_report"
      ],
      "metadata": {
        "id": "muUsti0OgcEU"
      },
      "execution_count": 30,
      "outputs": []
    },
    {
      "cell_type": "code",
      "source": [
        "df = pd.read_csv('/content/drive/MyDrive/Colab Notebooks/clustering_music_genres/Spotify-2000.csv')"
      ],
      "metadata": {
        "id": "6J1k4KEHhy7b"
      },
      "execution_count": 32,
      "outputs": []
    },
    {
      "cell_type": "code",
      "source": [
        "print(df.columns.tolist())\n"
      ],
      "metadata": {
        "colab": {
          "base_uri": "https://localhost:8080/"
        },
        "id": "jAiywfBXjTSo",
        "outputId": "48175487-a2de-4f34-925d-1227757a7ab3"
      },
      "execution_count": 40,
      "outputs": [
        {
          "output_type": "stream",
          "name": "stdout",
          "text": [
            "['Index', 'Title', 'Artist', 'Top Genre', 'Year', 'Beats Per Minute (BPM)', 'Energy', 'Danceability', 'Loudness (dB)', 'Liveness', 'Valence', 'Length (Duration)', 'Acousticness', 'Speechiness', 'Popularity']\n"
          ]
        }
      ]
    },
    {
      "cell_type": "code",
      "source": [
        "top_genres = df['Top Genre'].value_counts().nlargest(15).index\n",
        "df_top = df[df['Top Genre'].isin(top_genres)].copy()\n",
        "\n",
        "# 3. Label encode (genre -> sayısal)\n",
        "le = LabelEncoder()\n",
        "df_top['Top Genre_encoded'] = le.fit_transform(df_top['Top Genre'])\n",
        "\n",
        "# 4. Özellik sütunlarını seç\n",
        "feature_cols = [\n",
        "    'Danceability',\n",
        "    'Energy',\n",
        "    'Valence',\n",
        "    'Loudness (dB)',\n",
        "    'Beats Per Minute (BPM)',\n",
        "    'Acousticness',\n",
        "    'Speechiness',\n",
        "    'Liveness',\n",
        "    'Popularity'\n",
        "]\n",
        "X = df_top[feature_cols]\n",
        "y = df_top['Top Genre_encoded']\n"
      ],
      "metadata": {
        "id": "GPr975U_h_gl"
      },
      "execution_count": 41,
      "outputs": []
    },
    {
      "cell_type": "code",
      "source": [
        "scaler = StandardScaler()\n",
        "X_scaled = scaler.fit_transform(X)\n",
        "\n",
        "# 6. Train/test böl\n",
        "X_train, X_test, y_train, y_test = train_test_split(\n",
        "    X_scaled, y, test_size=0.2, random_state=42\n",
        ")"
      ],
      "metadata": {
        "id": "by38nvgRiHTp"
      },
      "execution_count": 42,
      "outputs": []
    },
    {
      "cell_type": "code",
      "source": [
        "model = RandomForestClassifier(random_state=42)\n",
        "model.fit(X_train, y_train)\n",
        "\n",
        "# 8. Tahmin yap ve performansı göster\n",
        "y_pred = model.predict(X_test)\n",
        "target_names = le.inverse_transform(sorted(set(y_test)))\n",
        "print(classification_report(y_test, y_pred, target_names=target_names))"
      ],
      "metadata": {
        "colab": {
          "base_uri": "https://localhost:8080/"
        },
        "id": "LgQSVsW9iafX",
        "outputId": "0c8309c3-ecbb-43d6-cb2f-24056869f0dd"
      },
      "execution_count": 43,
      "outputs": [
        {
          "output_type": "stream",
          "name": "stdout",
          "text": [
            "                   precision    recall  f1-score   support\n",
            "\n",
            "  adult standards       0.25      0.24      0.24        25\n",
            "       album rock       0.38      0.78      0.51        82\n",
            "alternative metal       0.44      0.31      0.36        13\n",
            " alternative rock       0.00      0.00      0.00        16\n",
            "         art rock       0.00      0.00      0.00         6\n",
            "     classic rock       0.00      0.00      0.00         5\n",
            "        dance pop       0.36      0.38      0.37        13\n",
            "       dance rock       0.00      0.00      0.00        12\n",
            "    dutch cabaret       0.00      0.00      0.00        13\n",
            "      dutch indie       0.33      0.31      0.32        16\n",
            "        dutch pop       0.27      0.29      0.28        14\n",
            "        glam rock       0.50      0.07      0.12        14\n",
            "      modern rock       0.00      0.00      0.00        12\n",
            "   permanent wave       0.00      0.00      0.00         8\n",
            "              pop       0.50      0.07      0.12        14\n",
            "\n",
            "         accuracy                           0.34       263\n",
            "        macro avg       0.20      0.16      0.16       263\n",
            "     weighted avg       0.27      0.34      0.27       263\n",
            "\n"
          ]
        },
        {
          "output_type": "stream",
          "name": "stderr",
          "text": [
            "/usr/local/lib/python3.11/dist-packages/sklearn/metrics/_classification.py:1565: UndefinedMetricWarning: Precision is ill-defined and being set to 0.0 in labels with no predicted samples. Use `zero_division` parameter to control this behavior.\n",
            "  _warn_prf(average, modifier, f\"{metric.capitalize()} is\", len(result))\n",
            "/usr/local/lib/python3.11/dist-packages/sklearn/metrics/_classification.py:1565: UndefinedMetricWarning: Precision is ill-defined and being set to 0.0 in labels with no predicted samples. Use `zero_division` parameter to control this behavior.\n",
            "  _warn_prf(average, modifier, f\"{metric.capitalize()} is\", len(result))\n",
            "/usr/local/lib/python3.11/dist-packages/sklearn/metrics/_classification.py:1565: UndefinedMetricWarning: Precision is ill-defined and being set to 0.0 in labels with no predicted samples. Use `zero_division` parameter to control this behavior.\n",
            "  _warn_prf(average, modifier, f\"{metric.capitalize()} is\", len(result))\n"
          ]
        }
      ]
    }
  ],
  "metadata": {
    "accelerator": "TPU",
    "colab": {
      "gpuType": "V28",
      "provenance": [],
      "authorship_tag": "ABX9TyOF9SbnsBOdrJ8tIWQnxLLx",
      "include_colab_link": true
    },
    "kernelspec": {
      "display_name": "Python 3",
      "name": "python3"
    },
    "language_info": {
      "name": "python"
    }
  },
  "nbformat": 4,
  "nbformat_minor": 0
}